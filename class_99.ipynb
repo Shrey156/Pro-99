{
  "nbformat": 4,
  "nbformat_minor": 0,
  "metadata": {
    "colab": {
      "name": "class 99.ipynb",
      "provenance": [],
      "collapsed_sections": [],
      "authorship_tag": "ABX9TyP7Ye4PVNnK18SeJaH+fK1g",
      "include_colab_link": true
    },
    "kernelspec": {
      "name": "python3",
      "display_name": "Python 3"
    },
    "language_info": {
      "name": "python"
    }
  },
  "cells": [
    {
      "cell_type": "markdown",
      "metadata": {
        "id": "view-in-github",
        "colab_type": "text"
      },
      "source": [
        "<a href=\"https://colab.research.google.com/github/Shrey156/Pro-99/blob/main/class_99.ipynb\" target=\"_parent\"><img src=\"https://colab.research.google.com/assets/colab-badge.svg\" alt=\"Open In Colab\"/></a>"
      ]
    },
    {
      "cell_type": "code",
      "execution_count": null,
      "metadata": {
        "id": "mcyOoUVOXq4b",
        "colab": {
          "base_uri": "https://localhost:8080/"
        },
        "outputId": "ff01ed6f-cee3-4f4d-bff8-9b2758082844"
      },
      "outputs": [
        {
          "output_type": "stream",
          "name": "stdout",
          "text": [
            "how many rows do you want : 5\n",
            "*\n",
            "**\n",
            "***\n",
            "****\n",
            "*****\n"
          ]
        }
      ],
      "source": [
        "row = int(input(\"how many rows do you want : \"))\n",
        "for i in range(row):\n",
        "  for j in range(0,i+1):\n",
        "    print(\"*\",end='')\n",
        "  print('')"
      ]
    },
    {
      "cell_type": "code",
      "source": [
        "row = int(input(\"how many rows do you want : \"))\n",
        "for i in range(0,row):\n",
        "  for j in range(0,row-i):\n",
        "    print(\"*\",end='')\n",
        "  print('')"
      ],
      "metadata": {
        "colab": {
          "base_uri": "https://localhost:8080/"
        },
        "id": "vgIisVC7h5ma",
        "outputId": "be8b609b-70bf-406d-af76-eee01698d809"
      },
      "execution_count": null,
      "outputs": [
        {
          "output_type": "stream",
          "name": "stdout",
          "text": [
            "how many rows do you want : 5\n",
            "*****\n",
            "****\n",
            "***\n",
            "**\n",
            "*\n"
          ]
        }
      ]
    },
    {
      "cell_type": "code",
      "source": [
        "colour_list = [\"pink\",\"blue\",\"green\",\"red\",\"violet\"]\n",
        "fruits_list = [\"orange\",\"banana\",\"apple\",\"cherry\",\"strawberry\"]\n",
        "for color in colour_list:\n",
        "  for fruit in fruits_list:\n",
        "    print(color,fruit)"
      ],
      "metadata": {
        "colab": {
          "base_uri": "https://localhost:8080/"
        },
        "id": "mWgR5uSmd3di",
        "outputId": "1e510686-dd73-4cb8-a60c-8984f2cd48ff"
      },
      "execution_count": null,
      "outputs": [
        {
          "output_type": "stream",
          "name": "stdout",
          "text": [
            "pink orange\n",
            "pink banana\n",
            "pink apple\n",
            "pink cherry\n",
            "pink strawberry\n",
            "blue orange\n",
            "blue banana\n",
            "blue apple\n",
            "blue cherry\n",
            "blue strawberry\n",
            "green orange\n",
            "green banana\n",
            "green apple\n",
            "green cherry\n",
            "green strawberry\n",
            "red orange\n",
            "red banana\n",
            "red apple\n",
            "red cherry\n",
            "red strawberry\n",
            "violet orange\n",
            "violet banana\n",
            "violet apple\n",
            "violet cherry\n",
            "violet strawberry\n"
          ]
        }
      ]
    },
    {
      "cell_type": "code",
      "source": [
        "for i in range(1,11):\n",
        "  for j in range(1,11):\n",
        "    print(i*j,end='')\n",
        "  print('')"
      ],
      "metadata": {
        "colab": {
          "base_uri": "https://localhost:8080/"
        },
        "id": "0pAHVXnPfD_p",
        "outputId": "6248cff5-44ce-4540-acd9-2f8478b9fac5"
      },
      "execution_count": null,
      "outputs": [
        {
          "output_type": "stream",
          "name": "stdout",
          "text": [
            "12345678910\n",
            "2468101214161820\n",
            "36912151821242730\n",
            "481216202428323640\n",
            "5101520253035404550\n",
            "6121824303642485460\n",
            "7142128354249566370\n",
            "8162432404856647280\n",
            "9182736455463728190\n",
            "102030405060708090100\n"
          ]
        }
      ]
    },
    {
      "cell_type": "code",
      "source": [
        "name=input(\"enter your name : \")\n",
        "\n",
        "for i in range(len(name)):\n",
        "  for j in range(len(name)):\n",
        "    if i==j:\n",
        "      print(name[i],end='')\n",
        "    else:\n",
        "      print(\"*\",end='')\n",
        "  print('')    "
      ],
      "metadata": {
        "colab": {
          "base_uri": "https://localhost:8080/"
        },
        "id": "kNhiwV9-jeMY",
        "outputId": "47972796-97e3-406d-c72d-2df6fd88d9c5"
      },
      "execution_count": null,
      "outputs": [
        {
          "output_type": "stream",
          "name": "stdout",
          "text": [
            "enter your name : shrey\n",
            "s****\n",
            "*h***\n",
            "**r**\n",
            "***e*\n",
            "****y\n"
          ]
        }
      ]
    }
  ]
}